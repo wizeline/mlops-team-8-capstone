{
 "cells": [
  {
   "cell_type": "code",
   "execution_count": 1,
   "id": "4ae5a82f",
   "metadata": {},
   "outputs": [],
   "source": [
    "%%capture\n",
    "!pip install torch==1.13.0 transformers==4.24.0 pyarrow==10.0.1 fastparquet==0.8.1 s3fs==2022.11.0 --upgrade"
   ]
  },
  {
   "cell_type": "code",
   "execution_count": 3,
   "id": "e06994fe",
   "metadata": {},
   "outputs": [],
   "source": [
    "import os\n",
    "import boto3\n",
    "import pandas as pd\n",
    "from transformers import pipeline\n",
    "import io\n",
    "from io import StringIO\n",
    "import torch\n",
    "import csv\n",
    "import numpy as np\n",
    "import sagemaker"
   ]
  },
  {
   "cell_type": "code",
   "execution_count": 4,
   "id": "808d941c",
   "metadata": {},
   "outputs": [
    {
     "name": "stdout",
     "output_type": "stream",
     "text": [
      "Cuda available:True\n"
     ]
    }
   ],
   "source": [
    "print(f\"Cuda available:{torch.cuda.is_available()}\")"
   ]
  },
  {
   "cell_type": "code",
   "execution_count": 23,
   "id": "b2580280",
   "metadata": {},
   "outputs": [],
   "source": [
    "s3 = boto3.resource('s3')\n",
    "bucket_name = 'mlops-team-8'\n",
    "bucket=s3.Bucket(bucket_name)\n",
    "directory = 'maildir-results-row/'\n",
    "results_directory = 'maildir-results/'"
   ]
  },
  {
   "cell_type": "code",
   "execution_count": 6,
   "id": "edd0b62f",
   "metadata": {},
   "outputs": [
    {
     "data": {
      "application/vnd.jupyter.widget-view+json": {
       "model_id": "923236e619804ab7b26e7c7745507fd9",
       "version_major": 2,
       "version_minor": 0
      },
      "text/plain": [
       "Downloading:   0%|          | 0.00/705 [00:00<?, ?B/s]"
      ]
     },
     "metadata": {},
     "output_type": "display_data"
    },
    {
     "data": {
      "application/vnd.jupyter.widget-view+json": {
       "model_id": "d87d1255f1e34b468d6435038779c486",
       "version_major": 2,
       "version_minor": 0
      },
      "text/plain": [
       "Downloading:   0%|          | 0.00/17.6M [00:00<?, ?B/s]"
      ]
     },
     "metadata": {},
     "output_type": "display_data"
    },
    {
     "data": {
      "application/vnd.jupyter.widget-view+json": {
       "model_id": "9dce53b4c66b42bd9312922eb8b844c0",
       "version_major": 2,
       "version_minor": 0
      },
      "text/plain": [
       "Downloading:   0%|          | 0.00/389 [00:00<?, ?B/s]"
      ]
     },
     "metadata": {},
     "output_type": "display_data"
    },
    {
     "data": {
      "application/vnd.jupyter.widget-view+json": {
       "model_id": "b61a6853c75b41b1b5f62a225039188e",
       "version_major": 2,
       "version_minor": 0
      },
      "text/plain": [
       "Downloading:   0%|          | 0.00/232k [00:00<?, ?B/s]"
      ]
     },
     "metadata": {},
     "output_type": "display_data"
    },
    {
     "data": {
      "application/vnd.jupyter.widget-view+json": {
       "model_id": "bd5105b97b8d4fb696ff0e23a8a51a37",
       "version_major": 2,
       "version_minor": 0
      },
      "text/plain": [
       "Downloading:   0%|          | 0.00/711k [00:00<?, ?B/s]"
      ]
     },
     "metadata": {},
     "output_type": "display_data"
    },
    {
     "data": {
      "application/vnd.jupyter.widget-view+json": {
       "model_id": "36502e2227714005b2e1ceba34b295a5",
       "version_major": 2,
       "version_minor": 0
      },
      "text/plain": [
       "Downloading:   0%|          | 0.00/125 [00:00<?, ?B/s]"
      ]
     },
     "metadata": {},
     "output_type": "display_data"
    }
   ],
   "source": [
    "model_spam = \"mrm8488/bert-tiny-finetuned-enron-spam-detection\"\n",
    "model_spam_path = f\"{model_spam}\"\n",
    "\n",
    "nlp_spam = pipeline(\"text-classification\", model = model_spam_path, tokenizer = model_spam_path, device = 0)\n"
   ]
  },
  {
   "cell_type": "code",
   "execution_count": 14,
   "id": "2d1dc407",
   "metadata": {},
   "outputs": [],
   "source": [
    "all_files = []\n",
    "for filename in os.listdir(directory):\n",
    "    if filename == '.ipynb_checkpoints':\n",
    "        continue\n",
    "    all_files.append(directory + filename)"
   ]
  },
  {
   "cell_type": "code",
   "execution_count": 17,
   "id": "f3fff757",
   "metadata": {},
   "outputs": [],
   "source": [
    "all_files = sorted(all_files)"
   ]
  },
  {
   "cell_type": "code",
   "execution_count": 18,
   "id": "eb090f66",
   "metadata": {},
   "outputs": [],
   "source": [
    "def get_sentiments(sentiment):\n",
    "    out_values = [None, None, None]\n",
    "    for value in sentiment:\n",
    "        if value[\"label\"] == 'positive':\n",
    "            out_values[0] = value[\"score\"]\n",
    "        if value[\"label\"] == 'neutral':\n",
    "            out_values[1] = value[\"score\"]\n",
    "        if value[\"label\"] == 'negative':\n",
    "            out_values[2] = value[\"score\"]\n",
    "\n",
    "            out = [out_values[0], out_values[1], out_values[2]]\n",
    "    return out\n",
    "\n",
    "def extract_summary(summ):\n",
    "    if isinstance(summ, str):\n",
    "        return summ\n",
    "    if isinstance(summ, dict):\n",
    "        return summ['summary_text']\n",
    "    return summ\n",
    "\n",
    "def get_number(list):\n",
    "    if list is not None:\n",
    "        number_of_elements = len(list.split(','))\n",
    "    else:\n",
    "        number_of_elements = 0\n",
    "    return number_of_elements"
   ]
  },
  {
   "cell_type": "code",
   "execution_count": 31,
   "id": "732264b5",
   "metadata": {},
   "outputs": [
    {
     "name": "stdout",
     "output_type": "stream",
     "text": [
      "starting\n",
      "Progress: 0.67%\n",
      "Progress: 1.33%\n",
      "Progress: 2.00%\n",
      "Progress: 2.67%\n",
      "Progress: 3.33%\n",
      "Progress: 4.00%\n",
      "Progress: 4.67%\n",
      "Progress: 5.33%\n",
      "Progress: 6.00%\n",
      "Progress: 6.67%\n",
      "Progress: 7.33%\n",
      "Progress: 8.00%\n",
      "Progress: 8.67%\n",
      "Progress: 9.33%\n",
      "Progress: 10.00%\n",
      "Progress: 10.67%\n",
      "Progress: 11.33%\n",
      "Progress: 12.00%\n",
      "Progress: 12.67%\n",
      "Progress: 13.33%\n",
      "Progress: 14.00%\n",
      "Progress: 14.67%\n",
      "Progress: 15.33%\n",
      "Progress: 16.00%\n",
      "Progress: 16.67%\n",
      "Progress: 17.33%\n",
      "Progress: 18.00%\n",
      "Progress: 18.67%\n",
      "Progress: 19.33%\n",
      "Progress: 20.00%\n",
      "Progress: 20.67%\n",
      "Progress: 21.33%\n",
      "Progress: 22.00%\n",
      "Progress: 22.67%\n",
      "Progress: 23.33%\n",
      "Progress: 24.00%\n",
      "Progress: 24.67%\n",
      "Progress: 25.33%\n",
      "Progress: 26.00%\n",
      "Progress: 26.67%\n",
      "Progress: 27.33%\n",
      "Progress: 28.00%\n",
      "Progress: 28.67%\n",
      "Progress: 29.33%\n",
      "Progress: 30.00%\n",
      "Progress: 30.67%\n",
      "Progress: 31.33%\n",
      "Progress: 32.00%\n",
      "Progress: 32.67%\n",
      "Progress: 33.33%\n",
      "Progress: 34.00%\n",
      "Progress: 34.67%\n",
      "Progress: 35.33%\n",
      "Progress: 36.00%\n",
      "Progress: 36.67%\n",
      "Progress: 37.33%\n",
      "Progress: 38.00%\n",
      "Progress: 38.67%\n",
      "Progress: 39.33%\n",
      "Progress: 40.00%\n",
      "Progress: 40.67%\n",
      "Progress: 41.33%\n",
      "Progress: 42.00%\n",
      "Progress: 42.67%\n",
      "Progress: 43.33%\n",
      "Progress: 44.00%\n",
      "Progress: 44.67%\n",
      "Progress: 45.33%\n",
      "Progress: 46.00%\n",
      "Progress: 46.67%\n",
      "Progress: 47.33%\n",
      "Progress: 48.00%\n",
      "Progress: 48.67%\n",
      "Progress: 49.33%\n",
      "Progress: 50.00%\n",
      "Progress: 50.67%\n",
      "Progress: 51.33%\n",
      "Progress: 52.00%\n",
      "Progress: 52.67%\n",
      "Progress: 53.33%\n",
      "Progress: 54.00%\n",
      "Progress: 54.67%\n",
      "Progress: 55.33%\n",
      "Progress: 56.00%\n",
      "Progress: 56.67%\n",
      "Progress: 57.33%\n",
      "Progress: 58.00%\n",
      "Progress: 58.67%\n",
      "Progress: 59.33%\n",
      "Progress: 60.00%\n",
      "Progress: 60.67%\n",
      "Progress: 61.33%\n",
      "Progress: 62.00%\n",
      "Progress: 62.67%\n",
      "Progress: 63.33%\n",
      "Progress: 64.00%\n",
      "Progress: 64.67%\n",
      "Progress: 65.33%\n",
      "Progress: 66.00%\n",
      "Progress: 66.67%\n",
      "Progress: 67.33%\n",
      "Progress: 68.00%\n",
      "Progress: 68.67%\n",
      "Progress: 69.33%\n",
      "Progress: 70.00%\n",
      "Progress: 70.67%\n",
      "Progress: 71.33%\n",
      "Progress: 72.00%\n",
      "Progress: 72.67%\n",
      "Progress: 73.33%\n",
      "Progress: 74.00%\n",
      "Progress: 74.67%\n",
      "Progress: 75.33%\n",
      "Progress: 76.00%\n",
      "Progress: 76.67%\n",
      "Progress: 77.33%\n",
      "Progress: 78.00%\n",
      "Progress: 78.67%\n",
      "Progress: 79.33%\n",
      "Progress: 80.00%\n",
      "Progress: 80.67%\n",
      "Progress: 81.33%\n",
      "Progress: 82.00%\n",
      "Progress: 82.67%\n",
      "Progress: 83.33%\n",
      "Progress: 84.00%\n",
      "Progress: 84.67%\n",
      "Progress: 85.33%\n",
      "Progress: 86.00%\n",
      "Progress: 86.67%\n",
      "Progress: 87.33%\n",
      "Progress: 88.00%\n",
      "Progress: 88.67%\n",
      "Progress: 89.33%\n",
      "Progress: 90.00%\n",
      "Progress: 90.67%\n",
      "Progress: 91.33%\n",
      "Progress: 92.00%\n",
      "Progress: 92.67%\n",
      "Progress: 93.33%\n",
      "Progress: 94.00%\n",
      "Progress: 94.67%\n",
      "Progress: 95.33%\n",
      "Progress: 96.00%\n",
      "Progress: 96.67%\n",
      "Progress: 97.33%\n",
      "Progress: 98.00%\n",
      "Progress: 98.67%\n",
      "Progress: 99.33%\n",
      "Progress: 100.00%\n"
     ]
    }
   ],
   "source": [
    "n = len(all_files)\n",
    "print(\"starting\")\n",
    "for i in range(n):\n",
    "    email_file = all_files[i]\n",
    "    filename = email_file.split('/')[1]\n",
    "    df = pd.read_json(email_file)\n",
    "    out_path = f'{results_directory}{filename}'\n",
    "    if os.path.isfile(out_path) == False:\n",
    "        df['body_cleansed'] = df['body_cleansed'].fillna('')\n",
    "        spam = nlp_spam(df[\"body_cleansed\"].tolist(), max_length=512, truncation=True)\n",
    "        df[['spam_label', 'spam_score']] = pd.json_normalize(spam)\n",
    "        df.loc[df['spam_label'] == 'LABEL_0', 'spam_label'] = 'Not Spam'\n",
    "        df.loc[df['spam_label'] == 'LABEL_1', 'spam_label'] = 'Spam'\n",
    "        #processing sentiment model\n",
    "        df['sentiment'] = df[['positive','negative','neutral']].idxmax(axis=1)\n",
    "        #processing summary model\n",
    "        df[\"to_count\"] = df.to.apply(get_number)\n",
    "        #resetting index\n",
    "        df = df.reset_index(drop=True)\n",
    "        df.to_json(out_path, orient = \"records\")\n",
    "    perc = (i+1)/n*100\n",
    "    print(f\"Progress: {perc:.2f}%\")\n",
    "\n"
   ]
  },
  {
   "cell_type": "code",
   "execution_count": 32,
   "id": "cfa112da",
   "metadata": {},
   "outputs": [],
   "source": [
    "sess = sagemaker.Session()\n",
    "s3_path_to_data = sess.upload_data(bucket=bucket_name, \n",
    "                                                  path=results_directory, \n",
    "                                                  key_prefix=results_directory)"
   ]
  },
  {
   "cell_type": "code",
   "execution_count": null,
   "id": "d6b40cc1",
   "metadata": {},
   "outputs": [],
   "source": [
    "notebook = \"mlops-team-8\"\n",
    "sm = boto3.client('sagemaker')\n",
    "sm.stop_notebook_instance(NotebookInstanceName=notebook)"
   ]
  },
  {
   "cell_type": "code",
   "execution_count": null,
   "id": "7914f4c1",
   "metadata": {},
   "outputs": [],
   "source": []
  }
 ],
 "metadata": {
  "kernelspec": {
   "display_name": "conda_amazonei_pytorch_latest_p37",
   "language": "python",
   "name": "conda_amazonei_pytorch_latest_p37"
  },
  "language_info": {
   "codemirror_mode": {
    "name": "ipython",
    "version": 3
   },
   "file_extension": ".py",
   "mimetype": "text/x-python",
   "name": "python",
   "nbconvert_exporter": "python",
   "pygments_lexer": "ipython3",
   "version": "3.7.12"
  }
 },
 "nbformat": 4,
 "nbformat_minor": 5
}
