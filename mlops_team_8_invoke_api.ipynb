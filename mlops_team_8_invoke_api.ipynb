{
  "cells": [
    {
      "cell_type": "code",
      "execution_count": 38,
      "metadata": {
        "id": "Tr9Q0utZwenw"
      },
      "outputs": [],
      "source": [
        "import requests\n",
        "import json"
      ]
    },
    {
      "cell_type": "code",
      "execution_count": 39,
      "metadata": {
        "id": "-iBOIH0i1yum"
      },
      "outputs": [],
      "source": [
        "def process_response(raw_response):\n",
        "  answer_dict = json.loads(raw_response)\n",
        "  answer_dict[\"body\"] = json.loads(json.loads(raw_response)[\"body\"])\n",
        "  return answer_dict"
      ]
    },
    {
      "cell_type": "code",
      "execution_count": 52,
      "metadata": {
        "id": "fY7hDMf_wmZf"
      },
      "outputs": [],
      "source": [
        "email_1 = r\"\"\"Message-ID: <19990687.1075855377507.JavaMail.evans@thyme>\n",
        "  Date: Tue, 11 Dec 2001 11:40:55 -0800 (PST)\n",
        "  From: c..gossett@enron.com\n",
        "  To: steven.l.allen@chase.com, daniel.mcdonagh@chase.com\n",
        "  Subject: daily breakout...2000..2001\n",
        "  Cc: k..allen@enron.com, kam.keiser@enron.com\n",
        "  Mime-Version: 1.0\n",
        "  Content-Type: text/plain; charset=us-ascii\n",
        "  Content-Transfer-Encoding: 7bit\n",
        "  Bcc: k..allen@enron.com, kam.keiser@enron.com\n",
        "  X-From: Gossett, Jeffrey C. </O=ENRON/OU=NA/CN=RECIPIENTS/CN=JGOSSET>\n",
        "  X-To: 'steven.l.allen@chase.com', 'daniel.mcdonagh@chase.com'\n",
        "  X-cc: Allen, Phillip K. </O=ENRON/OU=NA/CN=RECIPIENTS/CN=Pallen>, Keiser, Kam </O=ENRON/OU=NA/CN=RECIPIENTS/CN=Kkeiser>\n",
        "  X-bcc: \n",
        "  X-Folder: \\Phillip_Allen_Jan2002_1\\Allen, Phillip K.\\Inbox\n",
        "  X-Origin: Allen-P\n",
        "  X-FileName: pallen (Non-Privileged).pst\n",
        "  \n",
        "  FYI...The daily numbers for 2000 do not include middle market orig.  For 2001,  they are inclusive of middle market orig. \"\"\"\n",
        "\n",
        "email_2 = r\"\"\"Message-ID: <14307705.1075859338364.JavaMail.evans@thyme>\n",
        "Date: Fri, 30 Nov 2001 14:15:28 -0800 (PST)\n",
        "From: jean.adams@enron.com\n",
        "To: jean.adams@enron.com, robert.benningfield@enron.com, \n",
        "\tsherry.forbish@enron.com, chris.greaney@enron.com, \n",
        "\tscott.hibbard@enron.com, randy.janzen@enron.com, \n",
        "\tjoe.linhart@enron.com, janet.mcdaniel@enron.com, \n",
        "\tdebra.scurlock@enron.com, kathy.sturr@enron.com, \n",
        "\tcara.vaughan@enron.com, harry.woodson@enron.com\n",
        "Subject: ENA STORAGE FOR WEEKEND OF DEC. 1,2 & 3 AND UNTIL FURTHER NOTICE\n",
        "Cc: michael.bodnar@enron.com, john.buchanan@enron.com, terry.kowalke@enron.com, \n",
        "\tlynn.blair@enron.com\n",
        "Mime-Version: 1.0\n",
        "Content-Type: text/plain; charset=us-ascii\n",
        "Content-Transfer-Encoding: 7bit\n",
        "Bcc: michael.bodnar@enron.com, john.buchanan@enron.com, terry.kowalke@enron.com, \n",
        "\tlynn.blair@enron.com\n",
        "X-From: Adams, Jean </O=ENRON/OU=NA/CN=RECIPIENTS/CN=JADAMS1>\n",
        "X-To: Adams, Jean </O=ENRON/OU=NA/CN=RECIPIENTS/CN=Jadams1>, Benningfield, Robert </O=ENRON/OU=NA/CN=RECIPIENTS/CN=Rbennin>, Forbish, Sherry </O=ENRON/OU=NA/CN=RECIPIENTS/CN=Sforbis>, Greaney, Chris </O=ENRON/OU=NA/CN=RECIPIENTS/CN=Cgreane>, Hibbard, Scott </O=ENRON/OU=NA/CN=RECIPIENTS/CN=Shibbard>, Janzen, Randy </O=ENRON/OU=NA/CN=RECIPIENTS/CN=Rjanzen>, Linhart, Joe </O=ENRON/OU=NA/CN=RECIPIENTS/CN=Jlinhar>, McDaniel, Janet </O=ENRON/OU=NA/CN=RECIPIENTS/CN=Jmcdani>, Scurlock, Debra </O=ENRON/OU=NA/CN=RECIPIENTS/CN=Dscurloc>, Sturr, Kathy </O=ENRON/OU=NA/CN=RECIPIENTS/CN=Ksturr>, Vaughan, Cara </O=ENRON/OU=NA/CN=RECIPIENTS/CN=Cvaughan>, Woodson, Harry </O=ENRON/OU=NA/CN=RECIPIENTS/CN=Hwoodso>\n",
        "X-cc: Bodnar, Michael </O=ENRON/OU=NA/CN=RECIPIENTS/CN=Mbodnar>, Buchanan, John </O=ENRON/OU=NA/CN=RECIPIENTS/CN=Jbuchan2>, Kowalke, Terry </O=ENRON/OU=NA/CN=RECIPIENTS/CN=Tkowalk>, Blair, Lynn </O=ENRON/OU=NA/CN=RECIPIENTS/CN=Lblair>\n",
        "X-bcc: \n",
        "X-Folder: \\Lynn_Blair_Jan2002\\Blair, Lynn\\Customer - ENA\n",
        "X-Origin: Blair-L\n",
        "X-FileName: lblair (Non-Privileged).pst\n",
        "\n",
        "ENA STORAGE INFORMATION\n",
        "\n",
        "SBS has been turned off for ENA (K#'s 105515 and 105922) as of November 30, 2001\n",
        "\n",
        "For Park & Ride Contract No. 21233 (IDD)\n",
        "\t\n",
        "\tInjections are allowed\n",
        "\n",
        "\tNegative Withdrawals are not allowed - ENA has been notified that Negative Withdrawals must be prepaid.  Should they need to make a negative withdrawal, \tconference in Lynn Blair, Terry Kowalke or someone in management for approval.  \n",
        "\n",
        "PLEASE MONITOR THIS  CLOSELY OVER THE WEEKEND.\n",
        "\n",
        "KEEP A WATCHFUL EYE ON THEIR NOMINATION RECONCILIATION SCREEN FOR CUTS AND ANYTHING THAT MIGHT NEED ACTION BY NNG.\n",
        "\n",
        "If you have any questions, please feel free to call me.toto\n",
        "\n",
        "Home 713-721-5284; Cell 281-639-7916; Pager 713-761-0944\n",
        "\n",
        "Jean\n",
        "3-7757\"\"\"\n",
        "email_3 = r\"\"\"Message-ID: <31058794.1075851767138.JavaMail.evans@thyme>\n",
        "Date: Thu, 26 Apr 2001 08:35:00 -0700 (PDT)\n",
        "From: beth.cherry@enform.com\n",
        "To: jason.wolfe@enron.com\n",
        "Subject: thanks\n",
        "Mime-Version: 1.0\n",
        "Content-Type: text/plain; charset=us-ascii\n",
        "Content-Transfer-Encoding: 7bit\n",
        "X-From: \"Cherry, Beth\" <Beth.Cherry@enform.com>\n",
        "X-To: Jason.Wolfe@enron.com\n",
        "X-cc: \n",
        "X-bcc: \n",
        "X-Folder: \\Jason_Wolfe_Nov2001\\Notes Folders\\Discussion threads\n",
        "X-Origin: WOLFE-J\n",
        "X-FileName: jwolfe.nsf\n",
        "\n",
        "thanks for hanging out with me last night.\n",
        "b.\"\"\""
      ]
    },
    {
      "cell_type": "code",
      "execution_count": 59,
      "metadata": {
        "id": "ExY5DDmxwpSo"
      },
      "outputs": [],
      "source": [
        "url = \"url_here\"\n",
        "data_1 = {\"text\": email_1}\n",
        "data_2 = {\"text\": email_2}\n",
        "data_3 = {\"text\": email_3}"
      ]
    },
    {
      "cell_type": "code",
      "execution_count": 60,
      "metadata": {
        "colab": {
          "base_uri": "https://localhost:8080/"
        },
        "id": "uvknOHFMwmVB",
        "outputId": "65f7f82e-bc17-4d0b-e9ac-3e878cc2770d"
      },
      "outputs": [
        {
          "data": {
            "text/plain": [
              "{'statusCode': 200,\n",
              " 'body': {'summary': ' The BBC News website looks at some of the key stories from the',\n",
              "  'sentiment': [{'label': 'negative', 'score': 0.5404887199401855},\n",
              "   {'label': 'neutral', 'score': 0.25379839539527893},\n",
              "   {'label': 'positive', 'score': 0.20571281015872955}],\n",
              "  'email': {'message-id': '<19990687.1075855377507.JavaMail.evans@thyme>',\n",
              "   'date': 'Tue, 11 Dec 2001 11:40:55 -0800 (PST)',\n",
              "   'from': 'c..gossett@enron.com',\n",
              "   'to': 'steven.l.allen@chase.com, daniel.mcdonagh@chase.com',\n",
              "   'subject': 'daily breakout...2000..2001',\n",
              "   'x-filename': 'pallen (Non-Privileged).pst',\n",
              "   'body': '  FYI...The daily numbers for 2000 do not include middle market orig.  For 2001,  they are inclusive of middle market orig.'}}}"
            ]
          },
          "execution_count": 60,
          "metadata": {},
          "output_type": "execute_result"
        }
      ],
      "source": [
        "r = requests.post(url, data = json.dumps(data_1))\n",
        "process_response(r.text)"
      ]
    },
    {
      "cell_type": "code",
      "execution_count": 61,
      "metadata": {
        "colab": {
          "base_uri": "https://localhost:8080/"
        },
        "id": "XCYi0XNZ2G3s",
        "outputId": "6a5a94f2-c44c-499d-bbf7-2b0c965ee6dd"
      },
      "outputs": [
        {
          "data": {
            "text/plain": [
              "{'statusCode': 200,\n",
              " 'body': {'summary': \" Toto, the owner of ENA (K#'s 105515 and 105922), has issued a warning to the public about the safety of the public.\",\n",
              "  'sentiment': [{'label': 'negative', 'score': 0.8364061117172241},\n",
              "   {'label': 'neutral', 'score': 0.11612623929977417},\n",
              "   {'label': 'positive', 'score': 0.0474676638841629}],\n",
              "  'email': {'message-id': '<14307705.1075859338364.JavaMail.evans@thyme>',\n",
              "   'date': 'Fri, 30 Nov 2001 14:15:28 -0800 (PST)',\n",
              "   'from': 'jean.adams@enron.com',\n",
              "   'to': 'jean.adams@enron.com, robert.benningfield@enron.com,sherry.forbish@enron.com, chris.greaney@enron.com,scott.hibbard@enron.com, randy.janzen@enron.com,joe.linhart@enron.com, janet.mcdaniel@enron.com,debra.scurlock@enron.com, kathy.sturr@enron.com,cara.vaughan@enron.com, harry.woodson@enron.com',\n",
              "   'subject': 'ENA STORAGE FOR WEEKEND OF DEC. 1,2 & 3 AND UNTIL FURTHER NOTICElynn.blair@enron.comlynn.blair@enron.com',\n",
              "   'x-filename': 'lblair (Non-Privileged).pst',\n",
              "   'body': \"  ENA STORAGE INFORMATION  SBS has been turned off for ENA (K#'s 105515 and 105922) as of November 30, 2001  For Park & Ride Contract No. 21233 (IDD)  Injections are allowed  Negative Withdrawals are not allowed - ENA has been notified that Negative Withdrawals must be prepaid.  Should they need to make a negative withdrawal, \\tconference in Lynn Blair, Terry Kowalke or someone in management for approval.  PLEASE MONITOR THIS  CLOSELY OVER THE WEEKEND.  KEEP A WATCHFUL EYE ON THEIR NOMINATION RECONCILIATION SCREEN FOR CUTS AND ANYTHING THAT MIGHT NEED ACTION BY NNG.  If you have any questions, please feel free to call me.toto  Home 713-721-5284; Cell 281-639-7916; Pager 713-761-0944  Jean 3-7757\"}}}"
            ]
          },
          "execution_count": 61,
          "metadata": {},
          "output_type": "execute_result"
        }
      ],
      "source": [
        "r = requests.post(url, data = json.dumps(data_2))\n",
        "process_response(r.text)"
      ]
    },
    {
      "cell_type": "code",
      "execution_count": 62,
      "metadata": {
        "colab": {
          "base_uri": "https://localhost:8080/"
        },
        "id": "sHCnLyXkSsZ-",
        "outputId": "11146cf1-15e7-43d7-f229-c1cf5de2a35a"
      },
      "outputs": [
        {
          "data": {
            "text/plain": [
              "{'statusCode': 200,\n",
              " 'body': {'summary': '  thanks for hanging out with me last night. b.',\n",
              "  'sentiment': [{'label': 'positive', 'score': 0.9678874611854553},\n",
              "   {'label': 'neutral', 'score': 0.02713935263454914},\n",
              "   {'label': 'negative', 'score': 0.004973175935447216}],\n",
              "  'email': {'message-id': '<31058794.1075851767138.JavaMail.evans@thyme>',\n",
              "   'date': 'Thu, 26 Apr 2001 08:35:00 -0700 (PDT)',\n",
              "   'from': 'beth.cherry@enform.com',\n",
              "   'to': 'jason.wolfe@enron.com',\n",
              "   'subject': 'thanks',\n",
              "   'x-filename': 'jwolfe.nsf',\n",
              "   'body': '  thanks for hanging out with me last night. b.'}}}"
            ]
          },
          "execution_count": 62,
          "metadata": {},
          "output_type": "execute_result"
        }
      ],
      "source": [
        "r = requests.post(url, data = json.dumps(data_3))\n",
        "process_response(r.text)"
      ]
    },
    {
      "cell_type": "code",
      "execution_count": null,
      "metadata": {
        "id": "Ufa2Lta5SvRt"
      },
      "outputs": [],
      "source": []
    }
  ],
  "metadata": {
    "colab": {
      "provenance": []
    },
    "kernelspec": {
      "display_name": "Python 3",
      "name": "python3"
    },
    "language_info": {
      "name": "python"
    }
  },
  "nbformat": 4,
  "nbformat_minor": 0
}
