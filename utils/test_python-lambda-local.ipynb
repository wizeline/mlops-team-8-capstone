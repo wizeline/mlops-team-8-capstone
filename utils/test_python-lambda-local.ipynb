{
 "cells": [
  {
   "cell_type": "code",
   "execution_count": 4,
   "metadata": {},
   "outputs": [],
   "source": [
    "from lambda_local.main import call\n",
    "from lambda_local.context import Context\n",
    "import lambda_function\n",
    "import json\n"
   ]
  },
  {
   "cell_type": "code",
   "execution_count": 5,
   "metadata": {},
   "outputs": [],
   "source": [
    "email = \"\"\"Message-ID: <19990687.1075855377507.JavaMail.evans@thyme>\n",
    "  Date: Tue, 11 Dec 2001 11:40:55 -0800 (PST)\n",
    "  From: c..gossett@enron.com\n",
    "  To: steven.l.allen@chase.com, daniel.mcdonagh@chase.com\n",
    "  Subject: daily breakout...2000..2001\n",
    "  Cc: k..allen@enron.com, kam.keiser@enron.com\n",
    "  Mime-Version: 1.0\n",
    "  Content-Type: text/plain; charset=us-ascii\n",
    "  Content-Transfer-Encoding: 7bit\n",
    "  Bcc: k..allen@enron.com, kam.keiser@enron.com\n",
    "  X-From: Gossett, Jeffrey C. </O=ENRON/OU=NA/CN=RECIPIENTS/CN=JGOSSET>\n",
    "  X-To: 'steven.l.allen@chase.com', 'daniel.mcdonagh@chase.com'\n",
    "  X-cc: Allen, Phillip K. </O=ENRON/OU=NA/CN=RECIPIENTS/CN=Pallen>, Keiser, Kam </O=ENRON/OU=NA/CN=RECIPIENTS/CN=Kkeiser>\n",
    "  X-bcc: \n",
    "  X-Folder: \\Phillip_Allen_Jan2002_1\\Allen, Phillip K.\\Inbox\n",
    "  X-Origin: Allen-P\n",
    "  X-FileName: pallen (Non-Privileged).pst\n",
    "  \n",
    "  FYI...The daily numbers for 2000 do not include middle market orig.  For 2001,  they are inclusive of middle market orig. \"\"\""
   ]
  },
  {
   "cell_type": "code",
   "execution_count": 7,
   "metadata": {},
   "outputs": [
    {
     "data": {
      "text/plain": [
       "'{\"text\": \"Message-ID: <19990687.1075855377507.JavaMail.evans@thyme>\\\\n  Date: Tue, 11 Dec 2001 11:40:55 -0800 (PST)\\\\n  From: c..gossett@enron.com\\\\n  To: steven.l.allen@chase.com, daniel.mcdonagh@chase.com\\\\n  Subject: daily breakout...2000..2001\\\\n  Cc: k..allen@enron.com, kam.keiser@enron.com\\\\n  Mime-Version: 1.0\\\\n  Content-Type: text/plain; charset=us-ascii\\\\n  Content-Transfer-Encoding: 7bit\\\\n  Bcc: k..allen@enron.com, kam.keiser@enron.com\\\\n  X-From: Gossett, Jeffrey C. </O=ENRON/OU=NA/CN=RECIPIENTS/CN=JGOSSET>\\\\n  X-To: \\'steven.l.allen@chase.com\\', \\'daniel.mcdonagh@chase.com\\'\\\\n  X-cc: Allen, Phillip K. </O=ENRON/OU=NA/CN=RECIPIENTS/CN=Pallen>, Keiser, Kam </O=ENRON/OU=NA/CN=RECIPIENTS/CN=Kkeiser>\\\\n  X-bcc: \\\\n  X-Folder: \\\\\\\\Phillip_Allen_Jan2002_1\\\\\\\\Allen, Phillip K.\\\\\\\\Inbox\\\\n  X-Origin: Allen-P\\\\n  X-FileName: pallen (Non-Privileged).pst\\\\n  \\\\n  FYI...The daily numbers for 2000 do not include middle market orig.  For 2001,  they are inclusive of middle market orig. \"}'"
      ]
     },
     "execution_count": 7,
     "metadata": {},
     "output_type": "execute_result"
    }
   ],
   "source": [
    "json.dumps({\n",
    "    \"text\": email\n",
    "})"
   ]
  },
  {
   "cell_type": "code",
   "execution_count": 6,
   "metadata": {},
   "outputs": [
    {
     "name": "stdout",
     "output_type": "stream",
     "text": [
      "[root - INFO - 2022-11-25 08:51:23,235] Event: {\"text\": \"Message-ID: <19990687.1075855377507.JavaMail.evans@thyme>\\n  Date: Tue, 11 Dec 2001 11:40:55 -0800 (PST)\\n  From: c..gossett@enron.com\\n  To: steven.l.allen@chase.com, daniel.mcdonagh@chase.com\\n  Subject: daily breakout...2000..2001\\n  Cc: k..allen@enron.com, kam.keiser@enron.com\\n  Mime-Version: 1.0\\n  Content-Type: text/plain; charset=us-ascii\\n  Content-Transfer-Encoding: 7bit\\n  Bcc: k..allen@enron.com, kam.keiser@enron.com\\n  X-From: Gossett, Jeffrey C. </O=ENRON/OU=NA/CN=RECIPIENTS/CN=JGOSSET>\\n  X-To: 'steven.l.allen@chase.com', 'daniel.mcdonagh@chase.com'\\n  X-cc: Allen, Phillip K. </O=ENRON/OU=NA/CN=RECIPIENTS/CN=Pallen>, Keiser, Kam </O=ENRON/OU=NA/CN=RECIPIENTS/CN=Kkeiser>\\n  X-bcc: \\n  X-Folder: \\\\Phillip_Allen_Jan2002_1\\\\Allen, Phillip K.\\\\Inbox\\n  X-Origin: Allen-P\\n  X-FileName: pallen (Non-Privileged).pst\\n  \\n  FYI...The daily numbers for 2000 do not include middle market orig.  For 2001,  they are inclusive of middle market orig. \"}\n",
      "[root - INFO - 2022-11-25 08:51:23,237] START RequestId: 26e79de3-7743-40a5-90da-f533b882d9b0 Version: $LATEST\n",
      "[root - INFO - 2022-11-25 08:51:32,503] END RequestId: 26e79de3-7743-40a5-90da-f533b882d9b0\n",
      "[root - INFO - 2022-11-25 08:51:32,507] REPORT RequestId: 26e79de3-7743-40a5-90da-f533b882d9b0\tDuration: 1023.31 ms\n",
      "[root - INFO - 2022-11-25 08:51:32,508] RESULT:\n",
      "{'statusCode': 200, 'body': '{\"summary\": \" The BBC News website looks at some of the key stories from the\", \"sentiment\": [{\"label\": \"negative\", \"score\": 0.5404887199401855}, {\"label\": \"neutral\", \"score\": 0.25379836559295654}, {\"label\": \"positive\", \"score\": 0.20571288466453552}], \"email\": {\"message-id\": \"<19990687.1075855377507.JavaMail.evans@thyme>\", \"date\": \"Tue, 11 Dec 2001 11:40:55 -0800 (PST)\", \"from\": \"c..gossett@enron.com\", \"to\": \"steven.l.allen@chase.com, daniel.mcdonagh@chase.com\", \"subject\": \"daily breakout...2000..2001\", \"x-filename\": \"pallen (Non-Privileged).pst\", \"body\": \"  FYI...The daily numbers for 2000 do not include middle market orig.  For 2001,  they are inclusive of middle market orig.\"}}'}\n"
     ]
    },
    {
     "data": {
      "text/plain": [
       "({'statusCode': 200,\n",
       "  'body': '{\"summary\": \" The BBC News website looks at some of the key stories from the\", \"sentiment\": [{\"label\": \"negative\", \"score\": 0.5404887199401855}, {\"label\": \"neutral\", \"score\": 0.25379836559295654}, {\"label\": \"positive\", \"score\": 0.20571288466453552}], \"email\": {\"message-id\": \"<19990687.1075855377507.JavaMail.evans@thyme>\", \"date\": \"Tue, 11 Dec 2001 11:40:55 -0800 (PST)\", \"from\": \"c..gossett@enron.com\", \"to\": \"steven.l.allen@chase.com, daniel.mcdonagh@chase.com\", \"subject\": \"daily breakout...2000..2001\", \"x-filename\": \"pallen (Non-Privileged).pst\", \"body\": \"  FYI...The daily numbers for 2000 do not include middle market orig.  For 2001,  they are inclusive of middle market orig.\"}}'},\n",
       " None)"
      ]
     },
     "execution_count": 6,
     "metadata": {},
     "output_type": "execute_result"
    }
   ],
   "source": [
    "event = json.dumps({\n",
    "    \"text\": email\n",
    "})\n",
    "context = Context(300)\n",
    "\n",
    "call(lambda_function.lambda_handler, event, context)"
   ]
  },
  {
   "cell_type": "code",
   "execution_count": null,
   "metadata": {},
   "outputs": [],
   "source": []
  }
 ],
 "metadata": {
  "kernelspec": {
   "display_name": "Python 3.10.2 64-bit",
   "language": "python",
   "name": "python3"
  },
  "language_info": {
   "codemirror_mode": {
    "name": "ipython",
    "version": 3
   },
   "file_extension": ".py",
   "mimetype": "text/x-python",
   "name": "python",
   "nbconvert_exporter": "python",
   "pygments_lexer": "ipython3",
   "version": "3.10.2"
  },
  "orig_nbformat": 4,
  "vscode": {
   "interpreter": {
    "hash": "98590ff4fe04c8543246b2a01debd3de3c5ca9b666f43f1fa87d5110c692004c"
   }
  }
 },
 "nbformat": 4,
 "nbformat_minor": 2
}
