{
 "cells": [
  {
   "cell_type": "code",
   "execution_count": null,
   "id": "37f0d90d",
   "metadata": {},
   "outputs": [],
   "source": [
    "%%capture\n",
    "!pip install torch==1.13.0 transformers==4.24.0 pyarrow==10.0.1 fastparquet==0.8.1 s3fs==2022.11.0 --upgrade"
   ]
  },
  {
   "cell_type": "code",
   "execution_count": 1,
   "id": "fc13c940",
   "metadata": {},
   "outputs": [],
   "source": [
    "import os\n",
    "import boto3\n",
    "import pandas as pd\n",
    "from transformers import pipeline\n",
    "import io\n",
    "from io import StringIO\n",
    "import torch\n",
    "import csv\n",
    "import numpy as np\n",
    "import sagemaker"
   ]
  },
  {
   "cell_type": "code",
   "execution_count": null,
   "id": "85eae24e",
   "metadata": {},
   "outputs": [],
   "source": [
    "print(f\"Cuda available:{torch.cuda.is_available()}\")"
   ]
  },
  {
   "cell_type": "code",
   "execution_count": 2,
   "id": "7855cfdf",
   "metadata": {},
   "outputs": [],
   "source": [
    "s3 = boto3.resource('s3')\n",
    "bucket_name = 'mlops-team-8'\n",
    "bucket=s3.Bucket(bucket_name)\n",
    "directory = 'maildir-stg/'\n",
    "results_directory = \"maildir-results\""
   ]
  },
  {
   "cell_type": "code",
   "execution_count": null,
   "id": "45cca2f2",
   "metadata": {},
   "outputs": [],
   "source": [
    "model_sent = \"philschmid/distilbert-base-multilingual-cased-sentiment-2\"\n",
    "model_sum = \"sshleifer/distilbart-xsum-12-3\"\n",
    "\n",
    "model_sent_path = f\"{model_sent}\"\n",
    "model_sum_path = f\"{model_sum}\"\n",
    "\n",
    "nlp_sent = pipeline(\"sentiment-analysis\", model = model_sent_path, tokenizer = model_sent_path, device = 0)\n",
    "nlp_sum = pipeline(\"summarization\", model = model_sum_path, tokenizer = model_sum_path, device = 0 )\n"
   ]
  },
  {
   "cell_type": "code",
   "execution_count": null,
   "id": "00a3ee56",
   "metadata": {},
   "outputs": [],
   "source": [
    "all_files = []\n",
    "for object_summary in bucket.objects.filter(Prefix=directory):\n",
    "    all_files.append(object_summary.key)\n",
    "    \n",
    "all_files = all_files[1:] \n",
    "    \n",
    "    \n",
    "s3 = boto3.client('s3')"
   ]
  },
  {
   "cell_type": "code",
   "execution_count": null,
   "id": "b729408d",
   "metadata": {},
   "outputs": [],
   "source": [
    "def get_sentiments(sentiment):\n",
    "    out_values = [None, None, None]\n",
    "    for value in sentiment:\n",
    "        if value[\"label\"] == 'positive':\n",
    "            out_values[0] = value[\"score\"]\n",
    "        if value[\"label\"] == 'neutral':\n",
    "            out_values[1] = value[\"score\"]\n",
    "        if value[\"label\"] == 'negative':\n",
    "            out_values[2] = value[\"score\"]\n",
    "\n",
    "\n",
    "    out = [out_values[0], out_values[1], out_values[2]]\n",
    "    return out\n",
    "\n",
    "def extract_summary(summ):\n",
    "    if isinstance(summ, str):\n",
    "        return summ\n",
    "    if isinstance(summ, dict):\n",
    "        return summ['summary_text']\n",
    "    return summ"
   ]
  },
  {
   "cell_type": "code",
   "execution_count": null,
   "id": "7d5411be",
   "metadata": {},
   "outputs": [],
   "source": [
    "n = len(all_files)\n",
    "print(\"starting\")\n",
    "for i in range(n):\n",
    "    email_file = all_files[i]\n",
    "    obj = s3.get_object(Bucket=bucket.name, Key=email_file)\n",
    "    df = pd.read_parquet(io.BytesIO(obj['Body'].read()))\n",
    "    name = df[\"username\"].unique()[0]\n",
    "    out_path = f'maildir-results/emails_{name}_inference.json'\n",
    "    if os.path.isfile(out_path) == False:\n",
    "        \n",
    "        body_nans = df[\"body\"].isna()\n",
    "        df.loc[body_nans, \"body\"] = \"\"\n",
    "        \n",
    "        sentiment = nlp_sent(df[\"body\"].tolist(), top_k = None, max_length = 512, truncation=True)\n",
    "        df[\"sentiment\"] = sentiment\n",
    "        df[\"sentiment_res\"] = df.sentiment.apply(get_sentiments)\n",
    "        df[['positive','neutral', 'negative']] = pd.DataFrame(df.sentiment_res.tolist(), index= df.index)\n",
    "        df = df.drop([\"sentiment\", \"sentiment_res\"], axis = 1)\n",
    "\n",
    "        df[\"summary\"] = df[\"body\"]\n",
    "        df['len'] = df[\"body\"].str.split().apply(len)\n",
    "        long_cond = df.len > 512\n",
    "        medium_cond = (df.len < 512) & (df.len > 104)\n",
    "        short_cond = (df.len <= 104) & (df.len >= 62)\n",
    "        longs = df[long_cond]\n",
    "        mediums = df[medium_cond]\n",
    "        shorts = df[short_cond]\n",
    "\n",
    "        longs_sums = nlp_sum(longs[\"body\"].tolist(), max_length = 512, truncation=True)\n",
    "        mediums_sums = nlp_sum(mediums[\"body\"].tolist(), max_length = 104, truncation=True)\n",
    "        shorts_sums = nlp_sum(shorts[\"body\"].tolist(), max_length = 32, truncation=True)\n",
    "\n",
    "        df.loc[long_cond, \"summary\"] = longs_sums\n",
    "        df.loc[medium_cond, \"summary\"] = mediums_sums\n",
    "        df.loc[short_cond, \"summary\"] = shorts_sums\n",
    "        df[\"summary\"] = df.summary.apply(extract_summary)\n",
    "        \n",
    "        df.loc[body_nans, [\"body\", \"body_cleansed\", \"positive\", \"neutral\", \"negative\", \"summary\"]] = np.nan\n",
    "\n",
    "        #df.to_json(f's3://{bucket.name}/{results_directory}emails_{name}_inference.json')\n",
    "        df.to_json(out_path, orient = \"records\")\n",
    "    perc = (i+1)/n*100\n",
    "    print(f\"Progress: {perc:.2f}%\")\n"
   ]
  },
  {
   "cell_type": "code",
   "execution_count": 3,
   "id": "931e6b79",
   "metadata": {},
   "outputs": [],
   "source": [
    "sess = sagemaker.Session()\n",
    "s3_path_to_data = sess.upload_data(bucket=bucket_name, \n",
    "                                                  path=results_directory, \n",
    "                                                  key_prefix=results_directory)"
   ]
  },
  {
   "cell_type": "code",
   "execution_count": null,
   "id": "cb3ae720",
   "metadata": {},
   "outputs": [],
   "source": [
    "notebook = \"mlops-team-8\"\n",
    "sm = boto3.client('sagemaker')\n",
    "sm.stop_notebook_instance(NotebookInstanceName=notebook)"
   ]
  },
  {
   "cell_type": "code",
   "execution_count": null,
   "id": "3359b4ba",
   "metadata": {},
   "outputs": [],
   "source": []
  }
 ],
 "metadata": {
  "kernelspec": {
   "display_name": "conda_amazonei_pytorch_latest_p37",
   "language": "python",
   "name": "conda_amazonei_pytorch_latest_p37"
  },
  "language_info": {
   "codemirror_mode": {
    "name": "ipython",
    "version": 3
   },
   "file_extension": ".py",
   "mimetype": "text/x-python",
   "name": "python",
   "nbconvert_exporter": "python",
   "pygments_lexer": "ipython3",
   "version": "3.7.12"
  }
 },
 "nbformat": 4,
 "nbformat_minor": 5
}
